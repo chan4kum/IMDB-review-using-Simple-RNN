{
 "cells": [
  {
   "cell_type": "code",
   "execution_count": 1,
   "metadata": {},
   "outputs": [
    {
     "name": "stdout",
     "output_type": "stream",
     "text": [
      "Num GPUs Available:  0\n"
     ]
    }
   ],
   "source": [
    "# Step 1: Import Libraries and Load the Model\n",
    "import numpy as np\n",
    "import tensorflow as tf\n",
    "from tensorflow.keras.datasets import imdb\n",
    "from tensorflow.keras.preprocessing import sequence\n",
    "from tensorflow.keras.models import load_model\n",
    "\n",
    "print(\"Num GPUs Available: \", len(tf.config.list_physical_devices(\"GPU\")))"
   ]
  },
  {
   "cell_type": "code",
   "execution_count": 2,
   "metadata": {},
   "outputs": [],
   "source": [
    "# Load the Imdb dataset word index\n",
    "word_index = imdb.get_word_index()\n",
    "reverse_word_index = {value: key for key, value in word_index.items()}"
   ]
  },
  {
   "cell_type": "code",
   "execution_count": 3,
   "metadata": {},
   "outputs": [
    {
     "name": "stderr",
     "output_type": "stream",
     "text": [
      "WARNING:absl:Compiled the loaded model, but the compiled metrics have yet to be built. `model.compile_metrics` will be empty until you train or evaluate the model.\n"
     ]
    },
    {
     "data": {
      "text/html": [
       "<pre style=\"white-space:pre;overflow-x:auto;line-height:normal;font-family:Menlo,'DejaVu Sans Mono',consolas,'Courier New',monospace\"><span style=\"font-weight: bold\">Model: \"sequential_1\"</span>\n",
       "</pre>\n"
      ],
      "text/plain": [
       "\u001b[1mModel: \"sequential_1\"\u001b[0m\n"
      ]
     },
     "metadata": {},
     "output_type": "display_data"
    },
    {
     "data": {
      "text/html": [
       "<pre style=\"white-space:pre;overflow-x:auto;line-height:normal;font-family:Menlo,'DejaVu Sans Mono',consolas,'Courier New',monospace\">┏━━━━━━━━━━━━━━━━━━━━━━━━━━━━━━━━━┳━━━━━━━━━━━━━━━━━━━━━━━━┳━━━━━━━━━━━━━━━┓\n",
       "┃<span style=\"font-weight: bold\"> Layer (type)                    </span>┃<span style=\"font-weight: bold\"> Output Shape           </span>┃<span style=\"font-weight: bold\">       Param # </span>┃\n",
       "┡━━━━━━━━━━━━━━━━━━━━━━━━━━━━━━━━━╇━━━━━━━━━━━━━━━━━━━━━━━━╇━━━━━━━━━━━━━━━┩\n",
       "│ embedding_1 (<span style=\"color: #0087ff; text-decoration-color: #0087ff\">Embedding</span>)         │ (<span style=\"color: #00af00; text-decoration-color: #00af00\">500</span>, <span style=\"color: #00af00; text-decoration-color: #00af00\">500</span>, <span style=\"color: #00af00; text-decoration-color: #00af00\">128</span>)        │     <span style=\"color: #00af00; text-decoration-color: #00af00\">1,280,000</span> │\n",
       "├─────────────────────────────────┼────────────────────────┼───────────────┤\n",
       "│ simple_rnn_1 (<span style=\"color: #0087ff; text-decoration-color: #0087ff\">SimpleRNN</span>)        │ (<span style=\"color: #00af00; text-decoration-color: #00af00\">500</span>, <span style=\"color: #00af00; text-decoration-color: #00af00\">128</span>)             │        <span style=\"color: #00af00; text-decoration-color: #00af00\">32,896</span> │\n",
       "├─────────────────────────────────┼────────────────────────┼───────────────┤\n",
       "│ dense_1 (<span style=\"color: #0087ff; text-decoration-color: #0087ff\">Dense</span>)                 │ (<span style=\"color: #00af00; text-decoration-color: #00af00\">500</span>, <span style=\"color: #00af00; text-decoration-color: #00af00\">1</span>)               │           <span style=\"color: #00af00; text-decoration-color: #00af00\">129</span> │\n",
       "└─────────────────────────────────┴────────────────────────┴───────────────┘\n",
       "</pre>\n"
      ],
      "text/plain": [
       "┏━━━━━━━━━━━━━━━━━━━━━━━━━━━━━━━━━┳━━━━━━━━━━━━━━━━━━━━━━━━┳━━━━━━━━━━━━━━━┓\n",
       "┃\u001b[1m \u001b[0m\u001b[1mLayer (type)                   \u001b[0m\u001b[1m \u001b[0m┃\u001b[1m \u001b[0m\u001b[1mOutput Shape          \u001b[0m\u001b[1m \u001b[0m┃\u001b[1m \u001b[0m\u001b[1m      Param #\u001b[0m\u001b[1m \u001b[0m┃\n",
       "┡━━━━━━━━━━━━━━━━━━━━━━━━━━━━━━━━━╇━━━━━━━━━━━━━━━━━━━━━━━━╇━━━━━━━━━━━━━━━┩\n",
       "│ embedding_1 (\u001b[38;5;33mEmbedding\u001b[0m)         │ (\u001b[38;5;34m500\u001b[0m, \u001b[38;5;34m500\u001b[0m, \u001b[38;5;34m128\u001b[0m)        │     \u001b[38;5;34m1,280,000\u001b[0m │\n",
       "├─────────────────────────────────┼────────────────────────┼───────────────┤\n",
       "│ simple_rnn_1 (\u001b[38;5;33mSimpleRNN\u001b[0m)        │ (\u001b[38;5;34m500\u001b[0m, \u001b[38;5;34m128\u001b[0m)             │        \u001b[38;5;34m32,896\u001b[0m │\n",
       "├─────────────────────────────────┼────────────────────────┼───────────────┤\n",
       "│ dense_1 (\u001b[38;5;33mDense\u001b[0m)                 │ (\u001b[38;5;34m500\u001b[0m, \u001b[38;5;34m1\u001b[0m)               │           \u001b[38;5;34m129\u001b[0m │\n",
       "└─────────────────────────────────┴────────────────────────┴───────────────┘\n"
      ]
     },
     "metadata": {},
     "output_type": "display_data"
    },
    {
     "data": {
      "text/html": [
       "<pre style=\"white-space:pre;overflow-x:auto;line-height:normal;font-family:Menlo,'DejaVu Sans Mono',consolas,'Courier New',monospace\"><span style=\"font-weight: bold\"> Total params: </span><span style=\"color: #00af00; text-decoration-color: #00af00\">1,313,027</span> (5.01 MB)\n",
       "</pre>\n"
      ],
      "text/plain": [
       "\u001b[1m Total params: \u001b[0m\u001b[38;5;34m1,313,027\u001b[0m (5.01 MB)\n"
      ]
     },
     "metadata": {},
     "output_type": "display_data"
    },
    {
     "data": {
      "text/html": [
       "<pre style=\"white-space:pre;overflow-x:auto;line-height:normal;font-family:Menlo,'DejaVu Sans Mono',consolas,'Courier New',monospace\"><span style=\"font-weight: bold\"> Trainable params: </span><span style=\"color: #00af00; text-decoration-color: #00af00\">1,313,025</span> (5.01 MB)\n",
       "</pre>\n"
      ],
      "text/plain": [
       "\u001b[1m Trainable params: \u001b[0m\u001b[38;5;34m1,313,025\u001b[0m (5.01 MB)\n"
      ]
     },
     "metadata": {},
     "output_type": "display_data"
    },
    {
     "data": {
      "text/html": [
       "<pre style=\"white-space:pre;overflow-x:auto;line-height:normal;font-family:Menlo,'DejaVu Sans Mono',consolas,'Courier New',monospace\"><span style=\"font-weight: bold\"> Non-trainable params: </span><span style=\"color: #00af00; text-decoration-color: #00af00\">0</span> (0.00 B)\n",
       "</pre>\n"
      ],
      "text/plain": [
       "\u001b[1m Non-trainable params: \u001b[0m\u001b[38;5;34m0\u001b[0m (0.00 B)\n"
      ]
     },
     "metadata": {},
     "output_type": "display_data"
    },
    {
     "data": {
      "text/html": [
       "<pre style=\"white-space:pre;overflow-x:auto;line-height:normal;font-family:Menlo,'DejaVu Sans Mono',consolas,'Courier New',monospace\"><span style=\"font-weight: bold\"> Optimizer params: </span><span style=\"color: #00af00; text-decoration-color: #00af00\">2</span> (12.00 B)\n",
       "</pre>\n"
      ],
      "text/plain": [
       "\u001b[1m Optimizer params: \u001b[0m\u001b[38;5;34m2\u001b[0m (12.00 B)\n"
      ]
     },
     "metadata": {},
     "output_type": "display_data"
    }
   ],
   "source": [
    "# Load the pre-trained model with ReLU activation\n",
    "model = load_model(\"simple_rnn_imdb.h5\")\n",
    "model.summary()"
   ]
  },
  {
   "cell_type": "code",
   "execution_count": 4,
   "metadata": {},
   "outputs": [
    {
     "data": {
      "text/plain": [
       "[array([[-0.16151021, -0.24793293, -0.26219052, ..., -0.25950378,\n",
       "         -0.06542487, -0.22900555],\n",
       "        [-0.04983778, -0.05905222, -0.02099563, ..., -0.00255789,\n",
       "         -0.04395798, -0.0414414 ],\n",
       "        [-0.05283703, -0.10783001, -0.08566418, ..., -0.13638005,\n",
       "         -0.08824395, -0.04272722],\n",
       "        ...,\n",
       "        [ 0.00261395,  0.01998567, -0.02726195, ..., -0.06828006,\n",
       "         -0.00531165, -0.01652266],\n",
       "        [-0.00819235, -0.03225989,  0.0099901 , ...,  0.00336903,\n",
       "          0.00185679,  0.01349026],\n",
       "        [-0.00767288, -0.00890481,  0.0662135 , ...,  0.01751682,\n",
       "          0.02638798,  0.0281843 ]], dtype=float32),\n",
       " array([[-0.02406294, -0.13630614, -0.03643228, ...,  0.06623296,\n",
       "         -0.07133061, -0.02474234],\n",
       "        [ 0.15101075,  0.07237568,  0.15329121, ..., -0.11754736,\n",
       "          0.00127833, -0.13147204],\n",
       "        [ 0.09559572, -0.02992309, -0.05587618, ...,  0.09554838,\n",
       "         -0.03056695, -0.04268027],\n",
       "        ...,\n",
       "        [ 0.12823623, -0.12578267,  0.21962507, ...,  0.15977964,\n",
       "          0.00333529, -0.07188604],\n",
       "        [ 0.07720271, -0.09498429, -0.11539117, ..., -0.01535819,\n",
       "          0.14971513, -0.06571964],\n",
       "        [ 0.02301056, -0.07207438,  0.14982273, ...,  0.04676751,\n",
       "         -0.01890021,  0.04430254]], dtype=float32),\n",
       " array([[ 0.07044286, -0.08374872, -0.02337557, ..., -0.07919569,\n",
       "         -0.10962922,  0.00026355],\n",
       "        [-0.13853481, -0.01799775, -0.08580871, ...,  0.04162805,\n",
       "         -0.08172227, -0.02544418],\n",
       "        [ 0.07828224,  0.02944619, -0.04019107, ...,  0.05120631,\n",
       "         -0.1392053 , -0.00152709],\n",
       "        ...,\n",
       "        [-0.019552  , -0.005894  , -0.04321091, ...,  0.09466583,\n",
       "          0.00478907, -0.00518695],\n",
       "        [-0.18772763, -0.08106443, -0.14520286, ...,  0.09522805,\n",
       "         -0.11898171, -0.07045437],\n",
       "        [-0.0621927 , -0.01832525,  0.00731739, ...,  0.00305563,\n",
       "         -0.0877683 ,  0.01227472]], dtype=float32),\n",
       " array([ 2.5759505e-03, -5.9011520e-04,  2.5764474e-04,  9.0127001e-03,\n",
       "         1.8905422e-02,  3.3131428e-03, -1.8696263e-03, -9.4983941e-03,\n",
       "         7.2638360e-03,  1.8974116e-02, -5.3135855e-03, -2.9015236e-02,\n",
       "         1.9843013e-03, -1.2847396e-03,  2.7632308e-03,  6.5393206e-03,\n",
       "         4.8403055e-04, -9.6640975e-04, -9.6180700e-03,  3.7179622e-03,\n",
       "        -5.2550696e-03,  6.6735297e-03,  1.4463463e-03,  4.4862051e-02,\n",
       "         3.6892137e-03, -8.8041937e-03, -9.2862872e-03, -2.6264733e-03,\n",
       "         8.8655092e-03,  1.8246113e-03, -1.2877815e-02,  3.0132928e-03,\n",
       "         1.1430193e-02,  5.2317657e-04,  5.6029414e-03, -4.2857528e-03,\n",
       "        -9.4094537e-03, -8.8827256e-03,  4.2694334e-02,  7.0168604e-03,\n",
       "         6.6798972e-04,  6.4105731e-03, -4.4714585e-03,  1.8291393e-02,\n",
       "        -4.4810614e-03, -7.5206801e-04, -2.7772568e-03, -6.5837526e-03,\n",
       "         7.9749776e-03,  7.7142618e-03, -3.6901494e-03,  8.9938269e-04,\n",
       "        -7.5870291e-03, -4.0803058e-03,  3.1560108e-02,  7.8286482e-03,\n",
       "         7.6542487e-03, -2.6676792e-03,  1.1736139e-02, -1.1187642e-02,\n",
       "        -5.8184247e-03,  4.6117292e-03, -6.1589330e-03,  2.4040206e-03,\n",
       "         1.0831373e-02, -1.0735305e-02,  2.4053017e-02,  3.1411112e-03,\n",
       "        -5.4238620e-03,  5.3301048e-03,  8.0321785e-03,  8.0878148e-03,\n",
       "         1.2044443e-02,  2.4478554e-04, -5.4572262e-03,  5.9642079e-03,\n",
       "         1.0973936e-02,  1.1097634e-02,  7.5836051e-03, -8.6537021e-04,\n",
       "         6.7771249e-03,  7.9454472e-03,  3.8032245e-03,  1.4171398e-03,\n",
       "         2.9305706e-03,  2.9512555e-03,  4.8539173e-03,  7.3710214e-03,\n",
       "        -2.4875251e-04, -6.2664567e-06, -3.3843420e-03, -1.3905788e-02,\n",
       "        -4.5903306e-03, -2.0250033e-03,  1.2415580e-02,  1.4466425e-02,\n",
       "         2.3238266e-02,  2.2679972e-02,  3.6255659e-03, -1.7449234e-03,\n",
       "         6.5690279e-03,  4.2889762e-04,  1.3763145e-02,  8.8883638e-03,\n",
       "         5.9388467e-04,  9.7142830e-03,  1.6984487e-03,  6.1816289e-03,\n",
       "        -2.6039921e-03,  1.6211571e-02,  1.0619818e-02, -1.0445598e-02,\n",
       "        -6.6849258e-04,  4.0640039e-03,  7.6622250e-03,  4.9884906e-03,\n",
       "         4.2223283e-03,  7.4312766e-03, -6.1846348e-03,  9.2586800e-03,\n",
       "        -6.5692957e-03,  1.2389604e-02,  7.5011835e-03, -4.5133084e-03,\n",
       "         4.0612263e-03, -7.4918666e-03, -1.9885655e-02,  3.0275849e-03],\n",
       "       dtype=float32),\n",
       " array([[-0.17437507],\n",
       "        [-0.10489545],\n",
       "        [ 0.15634005],\n",
       "        [ 0.006392  ],\n",
       "        [-0.00809973],\n",
       "        [-0.129935  ],\n",
       "        [-0.16496365],\n",
       "        [ 0.20077555],\n",
       "        [ 0.08532687],\n",
       "        [-0.02979967],\n",
       "        [-0.03077183],\n",
       "        [ 0.04360906],\n",
       "        [-0.13934278],\n",
       "        [-0.14198382],\n",
       "        [ 0.2184589 ],\n",
       "        [-0.21801828],\n",
       "        [ 0.09610622],\n",
       "        [ 0.02715943],\n",
       "        [ 0.0281692 ],\n",
       "        [-0.18080842],\n",
       "        [-0.17702365],\n",
       "        [ 0.1800509 ],\n",
       "        [ 0.20421761],\n",
       "        [-0.01865147],\n",
       "        [-0.20553271],\n",
       "        [ 0.14098938],\n",
       "        [-0.04740267],\n",
       "        [ 0.15642653],\n",
       "        [-0.18627137],\n",
       "        [ 0.02572559],\n",
       "        [-0.06682921],\n",
       "        [ 0.12502918],\n",
       "        [-0.18087615],\n",
       "        [-0.18679127],\n",
       "        [ 0.2539876 ],\n",
       "        [-0.0459824 ],\n",
       "        [ 0.06413914],\n",
       "        [-0.12153078],\n",
       "        [-0.20750733],\n",
       "        [ 0.2341182 ],\n",
       "        [ 0.17442118],\n",
       "        [ 0.21507536],\n",
       "        [ 0.04672133],\n",
       "        [ 0.26965982],\n",
       "        [-0.16508363],\n",
       "        [ 0.08190876],\n",
       "        [-0.11184104],\n",
       "        [-0.09597479],\n",
       "        [-0.25753686],\n",
       "        [ 0.21372905],\n",
       "        [-0.23237692],\n",
       "        [ 0.22343938],\n",
       "        [-0.20515418],\n",
       "        [ 0.17074005],\n",
       "        [-0.2273718 ],\n",
       "        [-0.21902429],\n",
       "        [ 0.03955556],\n",
       "        [ 0.1044865 ],\n",
       "        [ 0.2176768 ],\n",
       "        [ 0.23173758],\n",
       "        [ 0.23133881],\n",
       "        [-0.03334197],\n",
       "        [ 0.09794568],\n",
       "        [ 0.03316292],\n",
       "        [ 0.25510797],\n",
       "        [-0.17002209],\n",
       "        [-0.11608703],\n",
       "        [ 0.00928494],\n",
       "        [ 0.05227159],\n",
       "        [ 0.12148184],\n",
       "        [ 0.13848156],\n",
       "        [ 0.0912722 ],\n",
       "        [-0.244472  ],\n",
       "        [-0.0698449 ],\n",
       "        [-0.10140499],\n",
       "        [-0.27959937],\n",
       "        [ 0.14600016],\n",
       "        [-0.09682332],\n",
       "        [-0.15925883],\n",
       "        [-0.03365245],\n",
       "        [ 0.26245448],\n",
       "        [ 0.1112079 ],\n",
       "        [-0.1312427 ],\n",
       "        [-0.05722168],\n",
       "        [-0.0783411 ],\n",
       "        [-0.16739327],\n",
       "        [-0.173454  ],\n",
       "        [-0.16229638],\n",
       "        [ 0.20121622],\n",
       "        [-0.10987636],\n",
       "        [ 0.1498773 ],\n",
       "        [-0.22077684],\n",
       "        [ 0.15327662],\n",
       "        [ 0.22346985],\n",
       "        [ 0.24707167],\n",
       "        [ 0.08624394],\n",
       "        [-0.04408254],\n",
       "        [-0.1458493 ],\n",
       "        [-0.19511072],\n",
       "        [ 0.15934873],\n",
       "        [-0.21942124],\n",
       "        [ 0.25663894],\n",
       "        [-0.16154884],\n",
       "        [-0.15475456],\n",
       "        [-0.10023091],\n",
       "        [-0.1828791 ],\n",
       "        [-0.16692938],\n",
       "        [-0.19661246],\n",
       "        [-0.02029093],\n",
       "        [-0.2263702 ],\n",
       "        [ 0.24308844],\n",
       "        [-0.2045969 ],\n",
       "        [ 0.16914943],\n",
       "        [-0.06002355],\n",
       "        [ 0.11023869],\n",
       "        [-0.20406428],\n",
       "        [ 0.17674959],\n",
       "        [-0.10694405],\n",
       "        [ 0.0475486 ],\n",
       "        [ 0.26434565],\n",
       "        [ 0.0238239 ],\n",
       "        [ 0.21149041],\n",
       "        [-0.24045649],\n",
       "        [ 0.22760475],\n",
       "        [ 0.2383973 ],\n",
       "        [-0.0333025 ],\n",
       "        [-0.13414618],\n",
       "        [-0.1937057 ]], dtype=float32),\n",
       " array([-0.02862035], dtype=float32)]"
      ]
     },
     "execution_count": 4,
     "metadata": {},
     "output_type": "execute_result"
    }
   ],
   "source": [
    "model.get_weights()"
   ]
  },
  {
   "cell_type": "code",
   "execution_count": 5,
   "metadata": {},
   "outputs": [],
   "source": [
    "# Step 2 : Helper Functions\n",
    "# Functions to decode reviews\n",
    "def decode_review(encoded_review):\n",
    "    return \" \".join([reverse_word_index.get(i - 3, \"?\") for i in encoded_review])\n",
    "\n",
    "\n",
    "# Function to preprocess user input\n",
    "def preprocess_text(text):\n",
    "    words = text.lower().split()\n",
    "    encoded_review = [word_index.get(word, 2) + 3 for word in words]\n",
    "    padded_review = sequence.pad_sequences([encoded_review], maxlen=500)\n",
    "    return padded_review"
   ]
  },
  {
   "cell_type": "code",
   "execution_count": 6,
   "metadata": {},
   "outputs": [],
   "source": [
    "## Prediction Function\n",
    "def predict_sentiment(review):\n",
    "    preprocessed_input = preprocess_text(review)\n",
    "    prediction = model.predict(preprocessed_input)\n",
    "    sentiment = \"Positive\" if prediction[0][0] > 0.5 else \"Negative\"\n",
    "    return sentiment, prediction[0][0]"
   ]
  },
  {
   "cell_type": "code",
   "execution_count": 7,
   "metadata": {},
   "outputs": [
    {
     "name": "stdout",
     "output_type": "stream",
     "text": [
      "\u001b[1m1/1\u001b[0m \u001b[32m━━━━━━━━━━━━━━━━━━━━\u001b[0m\u001b[37m\u001b[0m \u001b[1m0s\u001b[0m 243ms/step\n",
      "Review:This movie was fantastic! The acting was great and the plot was thrilling.\n",
      "Sentiment:Positive\n",
      "Prediction Score: 0.9485405683517456\n"
     ]
    }
   ],
   "source": [
    "# Step 4: User Input and Prediction\n",
    "# Example review for prediction\n",
    "example_review = (\n",
    "    \"This movie was fantastic! The acting was great and the plot was thrilling.\"\n",
    ")\n",
    "\n",
    "sentiment, score = predict_sentiment(example_review)\n",
    "print(f\"Review:{example_review}\")\n",
    "print(f\"Sentiment:{sentiment}\")\n",
    "print(f\"Prediction Score: {score}\")"
   ]
  },
  {
   "cell_type": "code",
   "execution_count": null,
   "metadata": {},
   "outputs": [
    {
     "ename": "",
     "evalue": "",
     "output_type": "error",
     "traceback": [
      "\u001b[1;31mThe kernel failed to start as 'TypeAliasType' could not be imported from 'c:\\Users\\chand\\anaconda3\\envs\\myenv\\Lib\\site-packages\\typing_extensions.py'.\n",
      "\u001b[1;31mClick <a href='https://aka.ms/kernelFailuresModuleImportErrFromFile'>here</a> for more info."
     ]
    },
    {
     "ename": "",
     "evalue": "",
     "output_type": "error",
     "traceback": [
      "\u001b[1;31mnotebook controller is DISPOSED. \n",
      "\u001b[1;31mView Jupyter <a href='command:jupyter.viewOutput'>log</a> for further details."
     ]
    },
    {
     "ename": "",
     "evalue": "",
     "output_type": "error",
     "traceback": [
      "\u001b[1;31mnotebook controller is DISPOSED. \n",
      "\u001b[1;31mView Jupyter <a href='command:jupyter.viewOutput'>log</a> for further details."
     ]
    },
    {
     "ename": "",
     "evalue": "",
     "output_type": "error",
     "traceback": [
      "\u001b[1;31mnotebook controller is DISPOSED. \n",
      "\u001b[1;31mView Jupyter <a href='command:jupyter.viewOutput'>log</a> for further details."
     ]
    },
    {
     "ename": "",
     "evalue": "",
     "output_type": "error",
     "traceback": [
      "\u001b[1;31mnotebook controller is DISPOSED. \n",
      "\u001b[1;31mView Jupyter <a href='command:jupyter.viewOutput'>log</a> for further details."
     ]
    },
    {
     "ename": "",
     "evalue": "",
     "output_type": "error",
     "traceback": [
      "\u001b[1;31mnotebook controller is DISPOSED. \n",
      "\u001b[1;31mView Jupyter <a href='command:jupyter.viewOutput'>log</a> for further details."
     ]
    },
    {
     "ename": "",
     "evalue": "",
     "output_type": "error",
     "traceback": [
      "\u001b[1;31mnotebook controller is DISPOSED. \n",
      "\u001b[1;31mView Jupyter <a href='command:jupyter.viewOutput'>log</a> for further details."
     ]
    },
    {
     "ename": "",
     "evalue": "",
     "output_type": "error",
     "traceback": [
      "\u001b[1;31mnotebook controller is DISPOSED. \n",
      "\u001b[1;31mView Jupyter <a href='command:jupyter.viewOutput'>log</a> for further details."
     ]
    }
   ],
   "source": []
  },
  {
   "cell_type": "code",
   "execution_count": null,
   "metadata": {},
   "outputs": [
    {
     "ename": "",
     "evalue": "",
     "output_type": "error",
     "traceback": [
      "\u001b[1;31mThe kernel failed to start as 'TypeAliasType' could not be imported from 'c:\\Users\\chand\\anaconda3\\envs\\myenv\\Lib\\site-packages\\typing_extensions.py'.\n",
      "\u001b[1;31mClick <a href='https://aka.ms/kernelFailuresModuleImportErrFromFile'>here</a> for more info."
     ]
    },
    {
     "ename": "",
     "evalue": "",
     "output_type": "error",
     "traceback": [
      "\u001b[1;31mnotebook controller is DISPOSED. \n",
      "\u001b[1;31mView Jupyter <a href='command:jupyter.viewOutput'>log</a> for further details."
     ]
    },
    {
     "ename": "",
     "evalue": "",
     "output_type": "error",
     "traceback": [
      "\u001b[1;31mnotebook controller is DISPOSED. \n",
      "\u001b[1;31mView Jupyter <a href='command:jupyter.viewOutput'>log</a> for further details."
     ]
    },
    {
     "ename": "",
     "evalue": "",
     "output_type": "error",
     "traceback": [
      "\u001b[1;31mnotebook controller is DISPOSED. \n",
      "\u001b[1;31mView Jupyter <a href='command:jupyter.viewOutput'>log</a> for further details."
     ]
    },
    {
     "ename": "",
     "evalue": "",
     "output_type": "error",
     "traceback": [
      "\u001b[1;31mnotebook controller is DISPOSED. \n",
      "\u001b[1;31mView Jupyter <a href='command:jupyter.viewOutput'>log</a> for further details."
     ]
    },
    {
     "ename": "",
     "evalue": "",
     "output_type": "error",
     "traceback": [
      "\u001b[1;31mnotebook controller is DISPOSED. \n",
      "\u001b[1;31mView Jupyter <a href='command:jupyter.viewOutput'>log</a> for further details."
     ]
    },
    {
     "ename": "",
     "evalue": "",
     "output_type": "error",
     "traceback": [
      "\u001b[1;31mnotebook controller is DISPOSED. \n",
      "\u001b[1;31mView Jupyter <a href='command:jupyter.viewOutput'>log</a> for further details."
     ]
    },
    {
     "ename": "",
     "evalue": "",
     "output_type": "error",
     "traceback": [
      "\u001b[1;31mnotebook controller is DISPOSED. \n",
      "\u001b[1;31mView Jupyter <a href='command:jupyter.viewOutput'>log</a> for further details."
     ]
    }
   ],
   "source": []
  },
  {
   "cell_type": "code",
   "execution_count": null,
   "metadata": {},
   "outputs": [
    {
     "ename": "",
     "evalue": "",
     "output_type": "error",
     "traceback": [
      "\u001b[1;31mThe kernel failed to start as 'TypeAliasType' could not be imported from 'c:\\Users\\chand\\anaconda3\\envs\\myenv\\Lib\\site-packages\\typing_extensions.py'.\n",
      "\u001b[1;31mClick <a href='https://aka.ms/kernelFailuresModuleImportErrFromFile'>here</a> for more info."
     ]
    },
    {
     "ename": "",
     "evalue": "",
     "output_type": "error",
     "traceback": [
      "\u001b[1;31mnotebook controller is DISPOSED. \n",
      "\u001b[1;31mView Jupyter <a href='command:jupyter.viewOutput'>log</a> for further details."
     ]
    },
    {
     "ename": "",
     "evalue": "",
     "output_type": "error",
     "traceback": [
      "\u001b[1;31mnotebook controller is DISPOSED. \n",
      "\u001b[1;31mView Jupyter <a href='command:jupyter.viewOutput'>log</a> for further details."
     ]
    },
    {
     "ename": "",
     "evalue": "",
     "output_type": "error",
     "traceback": [
      "\u001b[1;31mnotebook controller is DISPOSED. \n",
      "\u001b[1;31mView Jupyter <a href='command:jupyter.viewOutput'>log</a> for further details."
     ]
    },
    {
     "ename": "",
     "evalue": "",
     "output_type": "error",
     "traceback": [
      "\u001b[1;31mnotebook controller is DISPOSED. \n",
      "\u001b[1;31mView Jupyter <a href='command:jupyter.viewOutput'>log</a> for further details."
     ]
    },
    {
     "ename": "",
     "evalue": "",
     "output_type": "error",
     "traceback": [
      "\u001b[1;31mnotebook controller is DISPOSED. \n",
      "\u001b[1;31mView Jupyter <a href='command:jupyter.viewOutput'>log</a> for further details."
     ]
    },
    {
     "ename": "",
     "evalue": "",
     "output_type": "error",
     "traceback": [
      "\u001b[1;31mnotebook controller is DISPOSED. \n",
      "\u001b[1;31mView Jupyter <a href='command:jupyter.viewOutput'>log</a> for further details."
     ]
    },
    {
     "ename": "",
     "evalue": "",
     "output_type": "error",
     "traceback": [
      "\u001b[1;31mnotebook controller is DISPOSED. \n",
      "\u001b[1;31mView Jupyter <a href='command:jupyter.viewOutput'>log</a> for further details."
     ]
    }
   ],
   "source": []
  },
  {
   "cell_type": "code",
   "execution_count": null,
   "metadata": {},
   "outputs": [
    {
     "ename": "",
     "evalue": "",
     "output_type": "error",
     "traceback": [
      "\u001b[1;31mThe kernel failed to start as 'TypeAliasType' could not be imported from 'c:\\Users\\chand\\anaconda3\\envs\\myenv\\Lib\\site-packages\\typing_extensions.py'.\n",
      "\u001b[1;31mClick <a href='https://aka.ms/kernelFailuresModuleImportErrFromFile'>here</a> for more info."
     ]
    },
    {
     "ename": "",
     "evalue": "",
     "output_type": "error",
     "traceback": [
      "\u001b[1;31mnotebook controller is DISPOSED. \n",
      "\u001b[1;31mView Jupyter <a href='command:jupyter.viewOutput'>log</a> for further details."
     ]
    },
    {
     "ename": "",
     "evalue": "",
     "output_type": "error",
     "traceback": [
      "\u001b[1;31mnotebook controller is DISPOSED. \n",
      "\u001b[1;31mView Jupyter <a href='command:jupyter.viewOutput'>log</a> for further details."
     ]
    },
    {
     "ename": "",
     "evalue": "",
     "output_type": "error",
     "traceback": [
      "\u001b[1;31mnotebook controller is DISPOSED. \n",
      "\u001b[1;31mView Jupyter <a href='command:jupyter.viewOutput'>log</a> for further details."
     ]
    },
    {
     "ename": "",
     "evalue": "",
     "output_type": "error",
     "traceback": [
      "\u001b[1;31mnotebook controller is DISPOSED. \n",
      "\u001b[1;31mView Jupyter <a href='command:jupyter.viewOutput'>log</a> for further details."
     ]
    },
    {
     "ename": "",
     "evalue": "",
     "output_type": "error",
     "traceback": [
      "\u001b[1;31mnotebook controller is DISPOSED. \n",
      "\u001b[1;31mView Jupyter <a href='command:jupyter.viewOutput'>log</a> for further details."
     ]
    },
    {
     "ename": "",
     "evalue": "",
     "output_type": "error",
     "traceback": [
      "\u001b[1;31mnotebook controller is DISPOSED. \n",
      "\u001b[1;31mView Jupyter <a href='command:jupyter.viewOutput'>log</a> for further details."
     ]
    },
    {
     "ename": "",
     "evalue": "",
     "output_type": "error",
     "traceback": [
      "\u001b[1;31mnotebook controller is DISPOSED. \n",
      "\u001b[1;31mView Jupyter <a href='command:jupyter.viewOutput'>log</a> for further details."
     ]
    }
   ],
   "source": []
  }
 ],
 "metadata": {
  "kernelspec": {
   "display_name": "Python 3",
   "language": "python",
   "name": "python3"
  },
  "language_info": {
   "codemirror_mode": {
    "name": "ipython",
    "version": 3
   },
   "file_extension": ".py",
   "mimetype": "text/x-python",
   "name": "python",
   "nbconvert_exporter": "python",
   "pygments_lexer": "ipython3",
   "version": "3.12.4"
  }
 },
 "nbformat": 4,
 "nbformat_minor": 2
}
